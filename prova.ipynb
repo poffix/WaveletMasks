{
 "cells": [
  {
   "cell_type": "code",
   "execution_count": 4,
   "metadata": {},
   "outputs": [],
   "source": [
    "from torchattacks.attack import Attack"
   ]
  },
  {
   "cell_type": "code",
   "execution_count": 6,
   "metadata": {},
   "outputs": [
    {
     "name": "stdout",
     "output_type": "stream",
     "text": [
      "Failed to set device automatically, please try set_device() manual.\n"
     ]
    },
    {
     "data": {
      "text/plain": [
       "{'attack': 'a',\n",
       " '_attacks': OrderedDict(),\n",
       " 'model': 'b',\n",
       " 'model_name': 'str',\n",
       " 'device': None,\n",
       " 'attack_mode': 'default',\n",
       " 'supported_mode': ['default'],\n",
       " 'targeted': False,\n",
       " '_target_map_function': None,\n",
       " 'normalization_used': None,\n",
       " '_normalization_applied': None,\n",
       " '_model_training': False,\n",
       " '_batchnorm_training': False,\n",
       " '_dropout_training': False}"
      ]
     },
     "execution_count": 6,
     "metadata": {},
     "output_type": "execute_result"
    }
   ],
   "source": [
    "Attack('a', 'b').__dict__"
   ]
  }
 ],
 "metadata": {
  "kernelspec": {
   "display_name": "aml",
   "language": "python",
   "name": "python3"
  },
  "language_info": {
   "codemirror_mode": {
    "name": "ipython",
    "version": 3
   },
   "file_extension": ".py",
   "mimetype": "text/x-python",
   "name": "python",
   "nbconvert_exporter": "python",
   "pygments_lexer": "ipython3",
   "version": "3.12.4"
  }
 },
 "nbformat": 4,
 "nbformat_minor": 2
}
